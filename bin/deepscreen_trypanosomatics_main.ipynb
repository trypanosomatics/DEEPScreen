{
 "cells": [
  {
   "cell_type": "code",
   "execution_count": null,
   "metadata": {},
   "outputs": [],
   "source": [
    "from deepscreen_trypanosomatics import trainer"
   ]
  },
  {
   "cell_type": "code",
   "execution_count": null,
   "metadata": {},
   "outputs": [],
   "source": [
    "trainer.train('./results', tmp_imgs=True)\n",
    "trainer = trainer(df,'./deepscreen.db')"
   ]
  }
 ],
 "metadata": {
  "kernelspec": {
   "display_name": "deepscreen_env",
   "language": "python",
   "name": "python3"
  },
  "language_info": {
   "name": "python",
   "version": "3.7.13"
  },
  "orig_nbformat": 4,
  "vscode": {
   "interpreter": {
    "hash": "a93f424c9b46499c2393f4150d1203de8d1d52e7849d27e8a5553048ac274ec5"
   }
  }
 },
 "nbformat": 4,
 "nbformat_minor": 2
}
