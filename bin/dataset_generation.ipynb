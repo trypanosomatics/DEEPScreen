{
 "cells": [
  {
   "cell_type": "code",
   "execution_count": null,
   "metadata": {},
   "outputs": [
    {
     "ename": "",
     "evalue": "",
     "output_type": "error",
     "traceback": [
      "\u001b[1;31mRunning cells with 'Python 3.7.13 ('deepscreen_env')' requires ipykernel package.\n",
      "\u001b[1;31mRun the following command to install 'ipykernel' into the Python environment. \n",
      "\u001b[1;31mCommand: 'conda install -n deepscreen_env ipykernel --update-deps --force-reinstall'"
     ]
    }
   ],
   "source": [
    "import zipfile\n",
    "\n",
    "input_path_zip = '/data/Sebastian/Descargas/zip_deepscreen'\n",
    "\n",
    "files_list = zipfile.ZipFile.namelist(input_path_zip)\n",
    "\n"
   ]
  }
 ],
 "metadata": {
  "kernelspec": {
   "display_name": "Python 3.7.13 ('deepscreen_env')",
   "language": "python",
   "name": "python3"
  },
  "language_info": {
   "name": "python",
   "version": "3.7.13"
  },
  "orig_nbformat": 4,
  "vscode": {
   "interpreter": {
    "hash": "4e1686be7e0a862d7b2d61e2025013a64fb679a528081fcef52a13562bc4350c"
   }
  }
 },
 "nbformat": 4,
 "nbformat_minor": 2
}
